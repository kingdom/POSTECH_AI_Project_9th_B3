{
 "cells": [
  {
   "cell_type": "code",
   "execution_count": 1,
   "metadata": {},
   "outputs": [],
   "source": [
    "import numpy as np\n",
    "import darknet\n",
    "import cv2\n",
    "import time "
   ]
  },
  {
   "cell_type": "code",
   "execution_count": 2,
   "metadata": {},
   "outputs": [],
   "source": [
    "#다크넷에 cfg라는 모델층과 기존 학습된 weight를 연결\n",
    "net = darknet.load_net_custom(\"./go.cfg\".encode('utf-8'),\"./go.weights\".encode('utf-8'), 0,1)\n",
    "# 데이터도 연결 / coco.data안에는 80개의 클래스를 알아볼수있는 이름들이 있는데 그중에 car도 잇음\n",
    "meta = darknet.load_meta(\"./go.data\".encode('utf-8'))\n"
   ]
  },
  {
   "cell_type": "code",
   "execution_count": 21,
   "metadata": {},
   "outputs": [],
   "source": [
    "#그림 불러오기\n",
    "#여러개 불러올려면 당연히 for문해야함\n",
    "def start_detect():\n",
    "    #for name in sorted(os.listdir(dir)[-1:]):\n",
    "    names = sorted(os.listdir(dir))\n",
    "    try:\n",
    "        for name in names: # 배치를 전부 돌리려면 풀어줘야 함.\n",
    "            if name =='.ipynb_checkpoints':\n",
    "                continue\n",
    "            cctv_name = name[:-4].split('_')[1:]\n",
    "            cctv_lay_down = [0]*len(cctv_name)\n",
    "\n",
    "            a = cv2.imread(dir+name)\n",
    "            detections = darknet.detect_image(net, meta, a, thresh=0.3)\n",
    "\n",
    "            for detection in detections:\n",
    "                if detection[0]==b'lay_down':\n",
    "                    x,y=map (int,detection[2][0:2])            \n",
    "                    # print(heat_map[x,y]) heat_map[x,y] # 이게 lay_down의 좌표가 된다.\n",
    "                    cctv_lay_down[heat_map[x,y]]=1 # 원래라면 cctv_lay_down의 개수와 창 크기에 맞춰서 heat_map을 재편할 수 있도록 해야함. 그러나 그건 차후의 과제\n",
    "                    #print(cctv_lay_down)\n",
    "\n",
    "            for i in range(len(cctv_name)):\n",
    "                dict_[cctv_name[i]] = dict_.get(cctv_name[i],deque([0]*9)) # 처음이라면 큐 자료형 만들어줌\n",
    "                if cctv_lay_down[i]==1:\n",
    "                    dict_[cctv_name[i]].append(1)\n",
    "                    if sum(dict_[cctv_name[i]]) >= 10: #10초간 10번 감지되었을때\n",
    "                        if cctv_name[i] not in cool_time:\n",
    "                            # check_victim(cctv_name[i])\n",
    "                            #print(cctv_name[i],'의식확인 실행')\n",
    "                            f = open('check_cctv/'+cctv_name[i]+'.txt','w')\n",
    "                            f.close()\n",
    "                            cool_time[cctv_name[i]] = 30 # 쿨타임\n",
    "                            dict_[cctv_name[i]] = deque([0]*10)\n",
    "                        #else: \n",
    "                            #print(cctv_name[i],cool_time[cctv_name[i]],'초 의식확인 쿨타임 적용')\n",
    "                else:\n",
    "                    dict_[cctv_name[i]].append(0)\n",
    "                dict_[cctv_name[i]].popleft()\n",
    "\n",
    "            # 확인이 끝난 사진을 삭제\n",
    "            os.remove(dir+name)\n",
    "    \n",
    "    except:\n",
    "        #print('데이터 없음')\n",
    "        pass"
   ]
  },
  {
   "cell_type": "code",
   "execution_count": null,
   "metadata": {
    "scrolled": false
   },
   "outputs": [
    {
     "name": "stdout",
     "output_type": "stream",
     "text": [
      "감시 cctv:\t\t\t\t\t\t\t\t\t\t\t\t\t\t\t\t{'병원': deque([0, 0, 0, 0, 0, 0, 0, 0, 0]), '로데오거리': deque([0, 1, 0, 1, 0, 1, 0, 1, 0]), '학교': deque([1, 1, 1, 1, 1, 1, 1, 1, 1]), '골목': deque([1, 0, 1, 0, 1, 0, 1, 0, 1]), '새가잇는곳': deque([1, 1, 1, 1, 1, 1, 1, 1, 1]), '군대': deque([0, 0, 0, 0, 0, 0, 0, 0, 0]), '포스코': deque([0, 0, 0, 0, 0, 0, 0, 0, 0]), '경찰서': deque([0, 0, 0, 0, 0, 0, 0, 0, 0])}\t\t\t\t\t\t\t\t\t\t\t\t\t\t\t\t\t\t\t\t\t\t\t\t감지된 응급 상황 발생 cctv 및 경과시간 {}                                                                                              "
     ]
    }
   ],
   "source": [
    "import os\n",
    "from collections import deque\n",
    "import numpy as np\n",
    "\n",
    "dir ='4windows_input/'\n",
    "window = [200,200] # 1/4 윈도우의 너비와 높이( 전체 말고 각자)\n",
    "heat_map = np.array( [[0]*window[0] + [1]*window[0]] * window[1]\n",
    "                    +[[2]*window[0] + [3]*window[0]] * window[1])\n",
    "cool_time = {}\n",
    "dict_ = {}\n",
    "\n",
    "for _ in range(100000): # 데이터는 40개\n",
    "    start_detect()\n",
    "    print(f'\\r감시 cctv:\\t\\t\\t\\t\\t\\t\\t\\t\\t\\t\\t\\t\\t\\t\\t\\t{dict_}\\t\\t\\t\\t\\t\\t\\t\\t\\t\\t\\t\\t\\t\\t\\t\\t\\t\\t\\t\\t\\t\\t\\t\\t감지된 응급 상황 발생 cctv 및 경과시간: {cool_time}                                                                         ',end='')\n",
    "\n",
    "    \n",
    "    del_list = []\n",
    "    for cool in cool_time:\n",
    "        cool_time[cool] -=1\n",
    "        if cool_time[cool] < 1:\n",
    "          del_list.append(cool)\n",
    "    for del_ in del_list:\n",
    "        del cool_time[del_]\n",
    "    \n",
    "    time.sleep(1)\n"
   ]
  },
  {
   "cell_type": "code",
   "execution_count": 14,
   "metadata": {},
   "outputs": [
    {
     "data": {
      "text/plain": [
       "{}"
      ]
     },
     "execution_count": 14,
     "metadata": {},
     "output_type": "execute_result"
    }
   ],
   "source": [
    "# 해상도 480, 데이터 40개 기준 60번 감지할때 60.16초가 걸린다. \n",
    "# 이후의 프로세스도 추가되기 때문에, 현실적으로는 더 많이 줄여야함.\n",
    "# 해상도 640, 데이터 40개 기준 50번 감지할때 72.16초가 걸린다. \n",
    "# 해상도는 480 잡고, 데이터는 30개 기준으로 잡자."
   ]
  },
  {
   "cell_type": "code",
   "execution_count": null,
   "metadata": {},
   "outputs": [],
   "source": []
  }
 ],
 "metadata": {
  "kernelspec": {
   "display_name": "Python 3.7.4 64-bit ('base': conda)",
   "language": "python",
   "name": "python37464bitbasecondade6f29a184a94bac93f22a7274e9e24e"
  },
  "language_info": {
   "codemirror_mode": {
    "name": "ipython",
    "version": 3
   },
   "file_extension": ".py",
   "mimetype": "text/x-python",
   "name": "python",
   "nbconvert_exporter": "python",
   "pygments_lexer": "ipython3",
   "version": "3.7.4"
  }
 },
 "nbformat": 4,
 "nbformat_minor": 2
}
