{
 "cells": [
  {
   "cell_type": "code",
   "execution_count": 10,
   "metadata": {},
   "outputs": [],
   "source": [
    "import cv2\n",
    "import numpy as np\n",
    "from matplotlib import pyplot as plt\n",
    "import os\n",
    "import time "
   ]
  },
  {
   "cell_type": "code",
   "execution_count": 11,
   "metadata": {},
   "outputs": [],
   "source": [
    "def img_crop(img,n):\n",
    "    n = cv2.imread(img,1)\n",
    "    n = cv2.resize(n,(200,200))\n",
    "    return n"
   ]
  },
  {
   "cell_type": "code",
   "execution_count": 12,
   "metadata": {},
   "outputs": [
    {
     "data": {
      "text/plain": [
       "['병원.jpg', '.ipynb_checkpoints', '로데오거리.png', '학교.jpg', '골목.jpg']"
      ]
     },
     "execution_count": 12,
     "metadata": {},
     "output_type": "execute_result"
    }
   ],
   "source": [
    "#dir = 'melt_factory/'\n",
    "dir = 'melt_factory2/'\n",
    "\n",
    "os.listdir(dir)"
   ]
  },
  {
   "cell_type": "code",
   "execution_count": 4,
   "metadata": {},
   "outputs": [],
   "source": [
    "# imgs = []\n",
    "\n",
    "# for name in os.listdir(dir):\n",
    "#     imgs.append(img_crop(dir+name,'img1'))\n"
   ]
  },
  {
   "cell_type": "code",
   "execution_count": 5,
   "metadata": {},
   "outputs": [],
   "source": [
    "# 이미지를 읽어오고\n",
    "# 이미지 4개를 붙이고\n",
    "# 붙여진 이미지들은 현재 시간을 붙여서 폴더로 이동시킨다\n",
    "# 지금은 구현하기 어렵다. 정신력이 없어"
   ]
  },
  {
   "cell_type": "code",
   "execution_count": 6,
   "metadata": {},
   "outputs": [],
   "source": [
    "def test_image():\n",
    "    imgs = []\n",
    "    cctv_names = []\n",
    "\n",
    "    for name in os.listdir(dir):\n",
    "        if name == '.ipynb_checkpoints':\n",
    "            continue\n",
    "        cctv_names.append(name[:-4])\n",
    "        print(name[:-4])\n",
    "        imgs.append(img_crop(dir+name,'img'))\n",
    "\n",
    "    addv_1 = cv2.hconcat([imgs[0],imgs[1]])\n",
    "    addv_2 = cv2.hconcat([imgs[2],imgs[3]])\n",
    "    res = cv2.vconcat([addv_1,addv_2])\n",
    "\n",
    "    now = time.strftime('%Y%m%d%H%M%S', time.localtime(time.time()))\n",
    "    a,b,c,d = cctv_names\n",
    "    cv2.imwrite(f'4windows_input/{now}_{a}_{b}_{c}_{d}.jpg', res)\n",
    "    \n",
    "    time.sleep(1)\n",
    "    imgs = []\n",
    "    cctv_names = []\n",
    "    \n",
    "    for name in os.listdir(dir):\n",
    "        if name == '.ipynb_checkpoints':\n",
    "            continue\n",
    "        cctv_names.append(name[:-4])\n",
    "        print(name[:-4])\n",
    "        imgs.append(img_crop(dir+name,'img'))\n",
    "\n",
    "    addv_1 = cv2.hconcat([imgs[0],imgs[1]])\n",
    "    addv_2 = cv2.hconcat([imgs[3],imgs[2]])\n",
    "    res = cv2.vconcat([addv_1,addv_2])\n",
    "\n",
    "    now = time.strftime('%Y%m%d%H%M%S', time.localtime(time.time()))\n",
    "    a,b,c,d = cctv_names\n",
    "    cv2.imwrite(f'4windows_input/{now}_{a}_{b}_{c}_{d}.jpg', res)"
   ]
  },
  {
   "cell_type": "code",
   "execution_count": 7,
   "metadata": {},
   "outputs": [
    {
     "name": "stdout",
     "output_type": "stream",
     "text": [
      "병원\n",
      "로데오거리\n",
      "학교\n",
      "골목\n",
      "병원\n",
      "로데오거리\n",
      "학교\n",
      "골목\n",
      "병원\n",
      "로데오거리\n",
      "학교\n",
      "골목\n",
      "병원\n",
      "로데오거리\n",
      "학교\n",
      "골목\n",
      "병원\n",
      "로데오거리\n",
      "학교\n",
      "골목\n",
      "병원\n",
      "로데오거리\n",
      "학교\n",
      "골목\n",
      "병원\n",
      "로데오거리\n",
      "학교\n",
      "골목\n",
      "병원\n",
      "로데오거리\n",
      "학교\n",
      "골목\n",
      "병원\n",
      "로데오거리\n",
      "학교\n",
      "골목\n",
      "병원\n",
      "로데오거리\n",
      "학교\n",
      "골목\n"
     ]
    }
   ],
   "source": [
    "for i in range(5):\n",
    "    test_image()\n",
    "    time.sleep(1)"
   ]
  },
  {
   "cell_type": "code",
   "execution_count": 8,
   "metadata": {},
   "outputs": [],
   "source": [
    "def test_image():\n",
    "    imgs = []\n",
    "    cctv_names = []\n",
    "\n",
    "    for name in os.listdir(dir):\n",
    "        if name == '.ipynb_checkpoints':\n",
    "            continue\n",
    "        cctv_names.append(name[:-4])\n",
    "        print(name[:-4])\n",
    "        imgs.append(img_crop(dir+name,'img'))\n",
    "\n",
    "    addv_1 = cv2.hconcat([imgs[0],imgs[1]])\n",
    "    addv_2 = cv2.hconcat([imgs[2],imgs[3]])\n",
    "    res = cv2.vconcat([addv_1,addv_2])\n",
    "\n",
    "    now = time.strftime('%Y%m%d%H%M%S', time.localtime(time.time()))\n",
    "    a,b,c,d = cctv_names\n",
    "    cv2.imwrite(f'4windows_input/{now}_{a}_{b}_{c}_{d}.jpg', res)"
   ]
  },
  {
   "cell_type": "code",
   "execution_count": 9,
   "metadata": {},
   "outputs": [
    {
     "name": "stdout",
     "output_type": "stream",
     "text": [
      "병원\n",
      "로데오거리\n",
      "학교\n",
      "골목\n",
      "병원\n",
      "로데오거리\n",
      "학교\n",
      "골목\n",
      "병원\n",
      "로데오거리\n",
      "학교\n",
      "골목\n",
      "병원\n",
      "로데오거리\n",
      "학교\n",
      "골목\n",
      "병원\n",
      "로데오거리\n",
      "학교\n",
      "골목\n",
      "병원\n",
      "로데오거리\n",
      "학교\n",
      "골목\n",
      "병원\n",
      "로데오거리\n",
      "학교\n",
      "골목\n",
      "병원\n",
      "로데오거리\n",
      "학교\n",
      "골목\n",
      "병원\n",
      "로데오거리\n",
      "학교\n",
      "골목\n",
      "병원\n",
      "로데오거리\n",
      "학교\n",
      "골목\n"
     ]
    }
   ],
   "source": [
    "for i in range(10):\n",
    "    test_image()\n",
    "    time.sleep(1)"
   ]
  },
  {
   "cell_type": "code",
   "execution_count": null,
   "metadata": {},
   "outputs": [],
   "source": []
  }
 ],
 "metadata": {
  "anaconda-cloud": {},
  "kernelspec": {
   "display_name": "Python 3.7.4 64-bit ('base': conda)",
   "language": "python",
   "name": "python37464bitbasecondade6f29a184a94bac93f22a7274e9e24e"
  },
  "language_info": {
   "codemirror_mode": {
    "name": "ipython",
    "version": 3
   },
   "file_extension": ".py",
   "mimetype": "text/x-python",
   "name": "python",
   "nbconvert_exporter": "python",
   "pygments_lexer": "ipython3",
   "version": "3.7.4"
  }
 },
 "nbformat": 4,
 "nbformat_minor": 1
}
