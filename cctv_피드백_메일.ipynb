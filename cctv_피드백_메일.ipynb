{
 "cells": [
  {
   "cell_type": "code",
   "execution_count": 1,
   "metadata": {},
   "outputs": [],
   "source": [
    "import smtplib\n",
    "from email.mime.text import MIMEText\n",
    "from email.mime.multipart import MIMEMultipart\n",
    "from email.mime.base import MIMEBase\n",
    "from email import encoders\n",
    "import time\n",
    "import os\n",
    "\n",
    "\n",
    "\n",
    "def send_gmail(gmail,password,receiver,cctv):\n",
    "    # smtp init\n",
    "    smtp = smtplib.SMTP('smtp.gmail.com', 587)\n",
    "    smtp.starttls()\n",
    "    smtp.login(gmail, password)\n",
    "\n",
    "    # 첨부파일 경로/이름 지정하기\n",
    "    filename = 'lay_down.mp4'\n",
    "    attachment = open(filename,'rb')\n",
    "    \n",
    "    # 제목&본문 내용입력\n",
    "    msg = MIMEMultipart()\n",
    "    body = f'''\n",
    "      Golden Time 시스템에 쓰러진 사람이 인식되었습니다.\n",
    "\n",
    "      -----------------------------------------------\n",
    "      주소 : {cctv}\n",
    "      거주자 : 홍길동\n",
    "      주요질병 : 당뇨, 고혈압, 심근경색\n",
    "      거주자 연락처 : 010-7578-8989\n",
    "      보호자 연락처 : 010-5959-6969\n",
    "      -----------------------------------------------\n",
    "\n",
    "      거주자에게 확인 연락 후, 부재중일 경우에는\n",
    "      지금 즉시 가까운 119와 보호자에게 연락바랍니다.\n",
    "              \n",
    "              '''\n",
    "    subject = f'*****{cctv}: 응급상황 발생*****'\n",
    "    \n",
    "\n",
    "    # 첨부파일 설정\n",
    "    part = MIMEBase('application','octet-stream')\n",
    "    part.set_payload((attachment).read())\n",
    "    encoders.encode_base64(part)\n",
    "    part.add_header('Content-Disposition',\"attachment; filename= \"+filename)\n",
    "    \n",
    "    # msg 내용 추가\n",
    "    msg.attach(MIMEText(body,'plain'))\n",
    "    msg.attach(part)\n",
    "    msg['Subject'] = subject\n",
    "    msg['To'] = receiver\n",
    "    \n",
    "    # 메일 전송\n",
    "    smtp.sendmail(gmail, receiver , msg.as_string())\n",
    "    smtp.quit()\n",
    "    print('구조요청 메일이 전송되었습니다.\\n\\n')\n",
    "\n"
   ]
  },
  {
   "cell_type": "code",
   "execution_count": 2,
   "metadata": {},
   "outputs": [],
   "source": [
    "def show_video_in_jupyter_nb(width, height, video_url):\n",
    "    from IPython.display import HTML\n",
    "    return HTML(\"\"\"<video width=\"{}\" height=\"{}\" autoplay='TRUE' controls>\n",
    "    <source src={} type=\"video/mp4\">\n",
    "    </video>\"\"\".format(width, height, video_url))\n",
    "\n",
    "\n",
    "\n",
    "def tmp(cctv): # 실제로는 하드웨어 구현이 안되었기에 이걸로 대체합니다. \n",
    "    # 원래라면 대상 cctv에 연결된 스피커에서 소리가 나오고, 피드백을 그쪽에서 받아줘야 하지만, 우린 집에있어요. ㅠㅠ\n",
    "    # 원래라면 gui 새창 띄우는 것, 혹은 병렬 프로세스로 처리가 가능합니다만, 워크스테이션을 직접 보는게 아니라서 불가능합니다.\n",
    "    # putty를 사용한 원격 GUI의 경우에는 소리조차 안나와요.\n",
    "    # 하드웨어를 달라\n",
    "    os.remove('check_cctv/'+cctv)\n",
    "    print(f'{cctv[:-4]}: cctv에 의식확인 프로세스를 요청합니다.')\n",
    "    print('이상이 없다면 종료해주세요. 약',_time,'초 후에 구조 요청이 갑니다.')\n",
    "\n",
    "    #video_url = 'getup.wav'\n",
    "    video_url = '일어나세욧.m4a'\n",
    "    display(show_video_in_jupyter_nb(200, 30,video_url))\n",
    "\n",
    "    time.sleep(_time)\n",
    "    \n",
    "    print('의식없음을 확인, 구조요청 발송을 시도합니다...')\n",
    "    send_gmail('bjy5595@gmail.com','zojfqqoajkwwgkoe','joil4@naver.com',cctv[:-4])\n",
    "    \n"
   ]
  },
  {
   "cell_type": "code",
   "execution_count": 3,
   "metadata": {},
   "outputs": [
    {
     "name": "stdout",
     "output_type": "stream",
     "text": [
      "이상징후 발생 cctv 모니터링 가동 중:\n",
      "\n",
      "베란다: cctv에 의식확인 프로세스를 요청합니다.\n",
      "이상이 없다면 종료해주세요. 약 15 초 후에 구조 요청이 갑니다.\n"
     ]
    },
    {
     "data": {
      "text/html": [
       "<video width=\"200\" height=\"30\" autoplay='TRUE' controls>\n",
       "    <source src=일어나세욧.m4a type=\"video/mp4\">\n",
       "    </video>"
      ],
      "text/plain": [
       "<IPython.core.display.HTML object>"
      ]
     },
     "metadata": {},
     "output_type": "display_data"
    },
    {
     "name": "stdout",
     "output_type": "stream",
     "text": [
      "의식없음을 확인, 구조요청 발송을 시도합니다...\n",
      "구조요청 메일이 전송되었습니다.\n",
      "\n",
      "\n",
      "베란다: cctv에 의식확인 프로세스를 요청합니다.\n",
      "이상이 없다면 종료해주세요. 약 15 초 후에 구조 요청이 갑니다.\n"
     ]
    },
    {
     "data": {
      "text/html": [
       "<video width=\"200\" height=\"30\" autoplay='TRUE' controls>\n",
       "    <source src=일어나세욧.m4a type=\"video/mp4\">\n",
       "    </video>"
      ],
      "text/plain": [
       "<IPython.core.display.HTML object>"
      ]
     },
     "metadata": {},
     "output_type": "display_data"
    },
    {
     "name": "stdout",
     "output_type": "stream",
     "text": [
      "의식없음을 확인, 구조요청 발송을 시도합니다...\n",
      "구조요청 메일이 전송되었습니다.\n",
      "\n",
      "\n",
      "현관: cctv에 의식확인 프로세스를 요청합니다.\n",
      "이상이 없다면 종료해주세요. 약 15 초 후에 구조 요청이 갑니다.\n"
     ]
    },
    {
     "data": {
      "text/html": [
       "<video width=\"200\" height=\"30\" autoplay='TRUE' controls>\n",
       "    <source src=일어나세욧.m4a type=\"video/mp4\">\n",
       "    </video>"
      ],
      "text/plain": [
       "<IPython.core.display.HTML object>"
      ]
     },
     "metadata": {},
     "output_type": "display_data"
    },
    {
     "name": "stdout",
     "output_type": "stream",
     "text": [
      "의식없음을 확인, 구조요청 발송을 시도합니다...\n",
      "구조요청 메일이 전송되었습니다.\n",
      "\n",
      "\n"
     ]
    },
    {
     "ename": "KeyboardInterrupt",
     "evalue": "",
     "output_type": "error",
     "traceback": [
      "\u001b[0;31m---------------------------------------------------------------------------\u001b[0m",
      "\u001b[0;31mKeyboardInterrupt\u001b[0m                         Traceback (most recent call last)",
      "\u001b[0;32m<ipython-input-3-d155aa40b439>\u001b[0m in \u001b[0;36m<module>\u001b[0;34m\u001b[0m\n\u001b[1;32m      2\u001b[0m \u001b[0mprint\u001b[0m\u001b[0;34m(\u001b[0m\u001b[0;34m'이상징후 발생 cctv 모니터링 가동 중:\\n'\u001b[0m\u001b[0;34m)\u001b[0m\u001b[0;34m\u001b[0m\u001b[0;34m\u001b[0m\u001b[0m\n\u001b[1;32m      3\u001b[0m \u001b[0;32mfor\u001b[0m \u001b[0m_\u001b[0m \u001b[0;32min\u001b[0m \u001b[0mrange\u001b[0m\u001b[0;34m(\u001b[0m\u001b[0;36m200000\u001b[0m\u001b[0;34m)\u001b[0m\u001b[0;34m:\u001b[0m\u001b[0;34m\u001b[0m\u001b[0;34m\u001b[0m\u001b[0m\n\u001b[0;32m----> 4\u001b[0;31m     \u001b[0mtime\u001b[0m\u001b[0;34m.\u001b[0m\u001b[0msleep\u001b[0m\u001b[0;34m(\u001b[0m\u001b[0;36m1\u001b[0m\u001b[0;34m)\u001b[0m\u001b[0;34m\u001b[0m\u001b[0;34m\u001b[0m\u001b[0m\n\u001b[0m\u001b[1;32m      5\u001b[0m     \u001b[0;32mfor\u001b[0m \u001b[0mcctv\u001b[0m \u001b[0;32min\u001b[0m \u001b[0mos\u001b[0m\u001b[0;34m.\u001b[0m\u001b[0mlistdir\u001b[0m\u001b[0;34m(\u001b[0m\u001b[0;34m'check_cctv'\u001b[0m\u001b[0;34m)\u001b[0m\u001b[0;34m:\u001b[0m\u001b[0;34m\u001b[0m\u001b[0;34m\u001b[0m\u001b[0m\n\u001b[1;32m      6\u001b[0m         \u001b[0;32mif\u001b[0m \u001b[0mcctv\u001b[0m \u001b[0;34m==\u001b[0m \u001b[0;34m'.ipynb_checkpoints'\u001b[0m\u001b[0;34m:\u001b[0m\u001b[0;34m\u001b[0m\u001b[0;34m\u001b[0m\u001b[0m\n",
      "\u001b[0;31mKeyboardInterrupt\u001b[0m: "
     ]
    }
   ],
   "source": [
    "_time = 15\n",
    "print('이상징후 발생 cctv 모니터링 가동 중:\\n')\n",
    "for _ in range(200000):\n",
    "    time.sleep(1)\n",
    "    for cctv in os.listdir('check_cctv'):\n",
    "        if cctv == '.ipynb_checkpoints':\n",
    "            continue\n",
    "        tmp(cctv)"
   ]
  },
  {
   "cell_type": "code",
   "execution_count": null,
   "metadata": {},
   "outputs": [],
   "source": []
  },
  {
   "cell_type": "code",
   "execution_count": null,
   "metadata": {},
   "outputs": [],
   "source": []
  }
 ],
 "metadata": {
  "kernelspec": {
   "display_name": "Python 3.7.4 64-bit ('base': conda)",
   "language": "python",
   "name": "python37464bitbasecondade6f29a184a94bac93f22a7274e9e24e"
  },
  "language_info": {
   "codemirror_mode": {
    "name": "ipython",
    "version": 3
   },
   "file_extension": ".py",
   "mimetype": "text/x-python",
   "name": "python",
   "nbconvert_exporter": "python",
   "pygments_lexer": "ipython3",
   "version": "3.7.4"
  }
 },
 "nbformat": 4,
 "nbformat_minor": 4
}
