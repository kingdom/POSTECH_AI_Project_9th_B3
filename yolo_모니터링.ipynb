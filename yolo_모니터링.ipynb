{
 "cells": [
  {
   "cell_type": "code",
   "execution_count": 1,
   "metadata": {},
   "outputs": [],
   "source": [
    "import numpy as np\n",
    "import darknet\n",
    "import cv2\n",
    "import time "
   ]
  },
  {
   "cell_type": "code",
   "execution_count": 2,
   "metadata": {},
   "outputs": [],
   "source": [
    "# #다크넷에 cfg라는 모델층과 기존 학습된 weight를 연결\n",
    "# net = darknet.load_net_custom(\"./go.cfg\".encode('utf-8'),\"./go.weights\".encode('utf-8'), 0,1)\n",
    "# # 데이터도 연결 / coco.data안에는 80개의 클래스를 알아볼수있는 이름들이 있는데 그중에 car도 잇음\n",
    "# meta = darknet.load_meta(\"./go.data\".encode('utf-8'))\n",
    "\n",
    "#다크넷에 cfg라는 모델층과 기존 학습된 weight를 연결\n",
    "net = darknet.load_net_custom(\"./final.cfg\".encode('utf-8'),\"./final.weights\".encode('utf-8'), 0,1)\n",
    "# 데이터도 연결 / coco.data안에는 80개의 클래스를 알아볼수있는 이름들이 있는데 그중에 car도 잇음\n",
    "meta = darknet.load_meta(\"./go.data\".encode('utf-8'))\n"
   ]
  },
  {
   "cell_type": "code",
   "execution_count": 3,
   "metadata": {},
   "outputs": [],
   "source": [
    "#그림 불러오기\n",
    "#여러개 불러올려면 당연히 for문해야함\n",
    "def start_detect():\n",
    "    #for name in sorted(os.listdir(dir)[-1:]):\n",
    "    names = sorted(os.listdir(dir))\n",
    "    try:\n",
    "        for name in names: # 배치를 전부 돌리려면 풀어줘야 함.\n",
    "            if name =='.ipynb_checkpoints':\n",
    "                continue\n",
    "            cctv_name = name[:-4].split('_')[1:]\n",
    "            cctv_lay_down = [0]*len(cctv_name)\n",
    "\n",
    "            a = cv2.imread(dir+name)\n",
    "            detections = darknet.detect_image(net, meta, a, thresh=0.3)\n",
    "\n",
    "            for detection in detections:\n",
    "                if detection[0]==b'lay_down':\n",
    "                    x,y=map (int,detection[2][0:2])            \n",
    "                    # print(heat_map[x,y]) heat_map[x,y] # 이게 lay_down의 좌표가 된다.\n",
    "                    cctv_lay_down[heat_map[x,y]]=1 # 원래라면 cctv_lay_down의 개수와 창 크기에 맞춰서 heat_map을 재편할 수 있도록 해야함. 그러나 그건 차후의 과제\n",
    "                    #print(cctv_lay_down)\n",
    "\n",
    "            for i in range(len(cctv_name)):\n",
    "                dict_[cctv_name[i]] = dict_.get(cctv_name[i],deque([0]*9)) # 처음이라면 큐 자료형 만들어줌\n",
    "                if cctv_lay_down[i]==1:\n",
    "                    dict_[cctv_name[i]].append(1)\n",
    "                    if sum(dict_[cctv_name[i]]) >= 10: #10초간 10번 감지되었을때\n",
    "                        if cctv_name[i] not in cool_time:\n",
    "                            # check_victim(cctv_name[i])\n",
    "                            #print(cctv_name[i],'의식확인 실행')\n",
    "                            f = open('check_cctv/'+cctv_name[i]+'.txt','w')\n",
    "                            f.close()\n",
    "                            cool_time[cctv_name[i]] = 300 # 쿨타임\n",
    "                            dict_[cctv_name[i]] = deque([0]*10)\n",
    "                        #else: \n",
    "                            #print(cctv_name[i],cool_time[cctv_name[i]],'초 의식확인 쿨타임 적용')\n",
    "                else:\n",
    "                    dict_[cctv_name[i]].append(0)\n",
    "                dict_[cctv_name[i]].popleft()\n",
    "\n",
    "            # 확인이 끝난 사진을 삭제\n",
    "            os.remove(dir+name)\n",
    "    \n",
    "    except:\n",
    "        #print('데이터 없음')\n",
    "        pass"
   ]
  },
  {
   "cell_type": "code",
   "execution_count": 6,
   "metadata": {},
   "outputs": [
    {
     "name": "stdout",
     "output_type": "stream",
     "text": [
      "Yolov4 동작인식 cctv:\t\t\t\t\t\t\t\t\t\t\t\t\t\t\t\t{'골목': deque([0, 1, 0, 1, 0, 1, 0, 1, 0]), '합중문고': deque([1, 0, 1, 0, 1, 0, 1, 0, 1]), '강서구코너': deque([0, 0, 0, 0, 0, 0, 0, 0, 0]), '집앞': deque([0, 0, 0, 0, 0, 0, 0, 0, 0]), '삼성부동산': deque([0, 0, 0, 0, 0, 0, 0, 0, 0]), '횡단보도': deque([0, 0, 0, 0, 0, 0, 0, 0, 0]), '버스정류소': deque([0, 0, 0, 0, 0, 0, 0, 0, 0]), '길거리': deque([0, 0, 0, 0, 0, 0, 0, 0, 0]), '현관': deque([1, 1, 1, 1, 1, 1, 1, 1, 1]), '베란다': deque([0, 0, 0, 0, 0, 0, 0, 0, 0]), '거실': deque([0, 0, 0, 0, 0, 0, 0, 0, 0]), '주방': deque([0, 0, 0, 0, 0, 0, 0, 0, 0])}\t\t\t\t\t\t\t\t\t\t\t\t\t\t\t\t\t\t\t\t\t\t\t\t감지된 응급 상황 발생 cctv 및 경과시간: {'현관': 252}                                                                         "
     ]
    },
    {
     "ename": "KeyboardInterrupt",
     "evalue": "",
     "output_type": "error",
     "traceback": [
      "\u001b[0;31m---------------------------------------------------------------------------\u001b[0m",
      "\u001b[0;31mKeyboardInterrupt\u001b[0m                         Traceback (most recent call last)",
      "\u001b[0;32m<ipython-input-6-6d2178bf61c1>\u001b[0m in \u001b[0;36m<module>\u001b[0;34m\u001b[0m\n\u001b[1;32m     23\u001b[0m         \u001b[0;32mdel\u001b[0m \u001b[0mcool_time\u001b[0m\u001b[0;34m[\u001b[0m\u001b[0mdel_\u001b[0m\u001b[0;34m]\u001b[0m\u001b[0;34m\u001b[0m\u001b[0;34m\u001b[0m\u001b[0m\n\u001b[1;32m     24\u001b[0m \u001b[0;34m\u001b[0m\u001b[0m\n\u001b[0;32m---> 25\u001b[0;31m     \u001b[0mtime\u001b[0m\u001b[0;34m.\u001b[0m\u001b[0msleep\u001b[0m\u001b[0;34m(\u001b[0m\u001b[0;36m1\u001b[0m\u001b[0;34m)\u001b[0m\u001b[0;34m\u001b[0m\u001b[0;34m\u001b[0m\u001b[0m\n\u001b[0m",
      "\u001b[0;31mKeyboardInterrupt\u001b[0m: "
     ]
    }
   ],
   "source": [
    "import os\n",
    "from collections import deque\n",
    "import numpy as np\n",
    "\n",
    "dir ='4windows_input/'\n",
    "window = [240,240] # 1/4 윈도우의 너비와 높이( 전체 말고 각자) # 총 480이 된다.\n",
    "heat_map = np.array( [[0]*window[0] + [1]*window[0]] * window[1]\n",
    "                    +[[2]*window[0] + [3]*window[0]] * window[1])\n",
    "cool_time = {}\n",
    "dict_ = {}\n",
    "\n",
    "for _ in range(100000): # 데이터는 40개\n",
    "    start_detect()\n",
    "    print(f'\\rYolov4 동작인식 cctv:\\t\\t\\t\\t\\t\\t\\t\\t\\t\\t\\t\\t\\t\\t\\t\\t{dict_}\\t\\t\\t\\t\\t\\t\\t\\t\\t\\t\\t\\t\\t\\t\\t\\t\\t\\t\\t\\t\\t\\t\\t\\t감지된 응급 상황 발생 cctv 및 경과시간: {cool_time}                                                                         ',end='')\n",
    "\n",
    "    \n",
    "    del_list = []\n",
    "    for cool in cool_time:\n",
    "        cool_time[cool] -=1\n",
    "        if cool_time[cool] < 1:\n",
    "          del_list.append(cool)\n",
    "    for del_ in del_list:\n",
    "        del cool_time[del_]\n",
    "    \n",
    "    time.sleep(1)\n"
   ]
  },
  {
   "cell_type": "code",
   "execution_count": null,
   "metadata": {},
   "outputs": [],
   "source": []
  },
  {
   "cell_type": "code",
   "execution_count": null,
   "metadata": {},
   "outputs": [],
   "source": []
  }
 ],
 "metadata": {
  "kernelspec": {
   "display_name": "Python 3.7.4 64-bit ('base': conda)",
   "language": "python",
   "name": "python37464bitbasecondade6f29a184a94bac93f22a7274e9e24e"
  },
  "language_info": {
   "codemirror_mode": {
    "name": "ipython",
    "version": 3
   },
   "file_extension": ".py",
   "mimetype": "text/x-python",
   "name": "python",
   "nbconvert_exporter": "python",
   "pygments_lexer": "ipython3",
   "version": "3.7.4"
  }
 },
 "nbformat": 4,
 "nbformat_minor": 2
}
